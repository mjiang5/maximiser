{
 "cells": [
  {
   "cell_type": "code",
   "execution_count": 1,
   "metadata": {},
   "outputs": [],
   "source": [
    "import numpy as np\n",
    "import pandas as pd\n",
    "import matplotlib.pyplot as plt\n",
    "import re   \n",
    "\n",
    "%matplotlib inline"
   ]
  },
  {
   "cell_type": "code",
   "execution_count": 2,
   "metadata": {},
   "outputs": [],
   "source": [
    "from selenium import webdriver\n",
    "from selenium.webdriver.chrome.options import Options\n",
    "\n",
    "loc = '/usr/local/bin/chromedriver' #location of Chrome webdriver\n",
    "options = Options()\n",
    "options.add_argument('--headless')\n",
    "options.add_argument('--log-level=3')\n",
    "\n",
    "driver = webdriver.Chrome(loc, options=options) #chrome_options"
   ]
  },
  {
   "cell_type": "markdown",
   "metadata": {},
   "source": [
    "### Scraping title and links of all valid bonus posts"
   ]
  },
  {
   "cell_type": "code",
   "execution_count": 3,
   "metadata": {},
   "outputs": [],
   "source": [
    "def get_title_from_post_title(post_title):\n",
    "    including = re.search(r'targeted|business|miles', post_title, re.I) # remove business and targeted offer\n",
    "    not_including = re.search(r'\\$|checking|saving', post_title, re.I)\n",
    "\n",
    "    if including or not not_including:          \n",
    "        return\n",
    "    else:\n",
    "        post_title = re.sub(r'\\[.*?\\] ', '', post_title, re.I)\n",
    "        post_title = re.sub(r'[\\[\\(].*?[\\]\\)]', '', post_title, re.I)\n",
    "        post_title = re.sub(r'–\\s[a-zA-Z\\s]*', '', post_title, re.I)\n",
    "    \n",
    "    return post_title"
   ]
  },
  {
   "cell_type": "code",
   "execution_count": 4,
   "metadata": {},
   "outputs": [],
   "source": [
    "def scrape_bonus_posts(page_i, page_f):\n",
    "    main_url = 'https://www.doctorofcredit.com/category/bank-account-bonuses/' # page 7-54 for year 2019\n",
    "    bonus_posts = []\n",
    "    \n",
    "    for i in range(page_i, page_f+1):\n",
    "        page_num = 'page/' + str(i) + '/' # or 'page/7/'\n",
    "        driver.get(main_url+page_num)\n",
    "\n",
    "        for post_url in driver.find_elements_by_xpath(\"//h2[@class='omc-blog-one-heading']//a\"):\n",
    "            post_title = get_title_from_post_title(post_url.text)\n",
    "            if post_title:\n",
    "                bonus_posts.append([post_title, post_url.get_attribute('href')])\n",
    "            else:\n",
    "                continue\n",
    "    \n",
    "    return bonus_posts"
   ]
  },
  {
   "cell_type": "code",
   "execution_count": 5,
   "metadata": {},
   "outputs": [],
   "source": [
    "bonus_posts = scrape_bonus_posts(1, 30)"
   ]
  },
  {
   "cell_type": "code",
   "execution_count": 6,
   "metadata": {},
   "outputs": [
    {
     "data": {
      "text/plain": [
       "213"
      ]
     },
     "execution_count": 6,
     "metadata": {},
     "output_type": "execute_result"
    }
   ],
   "source": [
    "len(bonus_posts)"
   ]
  },
  {
   "cell_type": "code",
   "execution_count": 7,
   "metadata": {},
   "outputs": [],
   "source": [
    "bonus_posts_df = pd.DataFrame(bonus_posts, columns=['title', 'post_link'])\n",
    "bonus_posts_df.to_csv('../data/bonus_posts_page_1_30.csv')"
   ]
  },
  {
   "cell_type": "markdown",
   "metadata": {},
   "source": [
    "### Scraping post details of each bonus"
   ]
  },
  {
   "cell_type": "code",
   "execution_count": 8,
   "metadata": {},
   "outputs": [],
   "source": [
    "for i in range(len(bonus_posts_df)):\n",
    "    driver.get(bonus_posts_df.loc[i, 'post_link'])\n",
    "    \n",
    "    try:\n",
    "        glance = driver.find_elements_by_xpath('//*[@id=\"omc-full-article\"]/ul[1]')[0].text\n",
    "    except:\n",
    "        glance = np.nan\n",
    "    bonus_posts_df.loc[i, 'glance'] = glance\n",
    "    \n",
    "    try:\n",
    "        offer = driver.find_elements_by_xpath('//*[@id=\"omc-full-article\"]/ul[2]')[0].text\n",
    "    except:\n",
    "        offer = np.nan\n",
    "    bonus_posts_df.loc[i, 'offer'] = offer\n",
    "        \n",
    "    bonus_posts_df.loc[i, 'fee'] = ''  \n",
    "    for j in range(1, 6):\n",
    "        xpath = '//*[text()=\"Avoiding Fees\"]/following::p[{}]'.format(j)\n",
    "        try:\n",
    "            bonus_posts_df.loc[i, 'fee'] += str(driver.find_element_by_xpath(xpath).text)\n",
    "        except:\n",
    "            bonus_posts_df.loc[i, 'fee'] += ''"
   ]
  },
  {
   "cell_type": "code",
   "execution_count": 9,
   "metadata": {},
   "outputs": [
    {
     "data": {
      "text/html": [
       "<div>\n",
       "<style scoped>\n",
       "    .dataframe tbody tr th:only-of-type {\n",
       "        vertical-align: middle;\n",
       "    }\n",
       "\n",
       "    .dataframe tbody tr th {\n",
       "        vertical-align: top;\n",
       "    }\n",
       "\n",
       "    .dataframe thead th {\n",
       "        text-align: right;\n",
       "    }\n",
       "</style>\n",
       "<table border=\"1\" class=\"dataframe\">\n",
       "  <thead>\n",
       "    <tr style=\"text-align: right;\">\n",
       "      <th></th>\n",
       "      <th>title</th>\n",
       "      <th>post_link</th>\n",
       "      <th>glance</th>\n",
       "      <th>offer</th>\n",
       "      <th>fee</th>\n",
       "    </tr>\n",
       "  </thead>\n",
       "  <tbody>\n",
       "    <tr>\n",
       "      <th>0</th>\n",
       "      <td>Chesapeake Bank $100 Savings Bonus</td>\n",
       "      <td>https://www.doctorofcredit.com/va-only-chesape...</td>\n",
       "      <td>Maximum bonus amount: $100\\nAvailability: VA o...</td>\n",
       "      <td>Chesapeake Bank is offering a bonus of $100 wh...</td>\n",
       "      <td>The totally free checking account has no month...</td>\n",
       "    </tr>\n",
       "    <tr>\n",
       "      <th>1</th>\n",
       "      <td>Arsenal Credit Union $100 Checking Bonus</td>\n",
       "      <td>https://www.doctorofcredit.com/mo-only-arsenal...</td>\n",
       "      <td>Maximum bonus amount: $100\\nAvailability: MO o...</td>\n",
       "      <td>Arsenal Credit Union is offering a bonus of $1...</td>\n",
       "      <td>This account has no monthly fees to worry abou...</td>\n",
       "    </tr>\n",
       "    <tr>\n",
       "      <th>2</th>\n",
       "      <td>The Cooperative Bank $200 Checking Bonus</td>\n",
       "      <td>https://www.doctorofcredit.com/ma-only-the-coo...</td>\n",
       "      <td>Maximum bonus amount: $200\\nAvailability: MA o...</td>\n",
       "      <td>The Cooperative Bank is offering a bonus of $2...</td>\n",
       "      <td>This account has a $10 monthly fee, this is wa...</td>\n",
       "    </tr>\n",
       "    <tr>\n",
       "      <th>3</th>\n",
       "      <td>Old Second Bank $200 Checking Bonus</td>\n",
       "      <td>https://www.doctorofcredit.com/il-only-old-sec...</td>\n",
       "      <td>Maximum bonus amount: $200\\nAvailability:Must ...</td>\n",
       "      <td>Old Second Bank is offering a $200 checking bo...</td>\n",
       "      <td>Money connection account has a $3.95 fee if yo...</td>\n",
       "    </tr>\n",
       "    <tr>\n",
       "      <th>4</th>\n",
       "      <td>BBVA $400 Checking Bonus + $50 Savings Bonus &amp;...</td>\n",
       "      <td>https://www.doctorofcredit.com/bbva-400-checki...</td>\n",
       "      <td>Maximum bonus amount: $450\\nAvailability: Nati...</td>\n",
       "      <td>BBVA Compass is offering a checking bonus of $...</td>\n",
       "      <td>If you live in AL, AZ, CA, CO, FL NM or TX the...</td>\n",
       "    </tr>\n",
       "  </tbody>\n",
       "</table>\n",
       "</div>"
      ],
      "text/plain": [
       "                                               title  \\\n",
       "0                Chesapeake Bank $100 Savings Bonus    \n",
       "1          Arsenal Credit Union $100 Checking Bonus    \n",
       "2           The Cooperative Bank $200 Checking Bonus   \n",
       "3                Old Second Bank $200 Checking Bonus   \n",
       "4  BBVA $400 Checking Bonus + $50 Savings Bonus &...   \n",
       "\n",
       "                                           post_link  \\\n",
       "0  https://www.doctorofcredit.com/va-only-chesape...   \n",
       "1  https://www.doctorofcredit.com/mo-only-arsenal...   \n",
       "2  https://www.doctorofcredit.com/ma-only-the-coo...   \n",
       "3  https://www.doctorofcredit.com/il-only-old-sec...   \n",
       "4  https://www.doctorofcredit.com/bbva-400-checki...   \n",
       "\n",
       "                                              glance  \\\n",
       "0  Maximum bonus amount: $100\\nAvailability: VA o...   \n",
       "1  Maximum bonus amount: $100\\nAvailability: MO o...   \n",
       "2  Maximum bonus amount: $200\\nAvailability: MA o...   \n",
       "3  Maximum bonus amount: $200\\nAvailability:Must ...   \n",
       "4  Maximum bonus amount: $450\\nAvailability: Nati...   \n",
       "\n",
       "                                               offer  \\\n",
       "0  Chesapeake Bank is offering a bonus of $100 wh...   \n",
       "1  Arsenal Credit Union is offering a bonus of $1...   \n",
       "2  The Cooperative Bank is offering a bonus of $2...   \n",
       "3  Old Second Bank is offering a $200 checking bo...   \n",
       "4  BBVA Compass is offering a checking bonus of $...   \n",
       "\n",
       "                                                 fee  \n",
       "0  The totally free checking account has no month...  \n",
       "1  This account has no monthly fees to worry abou...  \n",
       "2  This account has a $10 monthly fee, this is wa...  \n",
       "3  Money connection account has a $3.95 fee if yo...  \n",
       "4  If you live in AL, AZ, CA, CO, FL NM or TX the...  "
      ]
     },
     "execution_count": 9,
     "metadata": {},
     "output_type": "execute_result"
    }
   ],
   "source": [
    "bonus_posts_df.head()"
   ]
  },
  {
   "cell_type": "code",
   "execution_count": 11,
   "metadata": {},
   "outputs": [
    {
     "data": {
      "text/plain": [
       "213"
      ]
     },
     "execution_count": 11,
     "metadata": {},
     "output_type": "execute_result"
    }
   ],
   "source": [
    "len(bonus_posts_df)"
   ]
  },
  {
   "cell_type": "code",
   "execution_count": 12,
   "metadata": {},
   "outputs": [],
   "source": [
    "bonus_posts_df.to_csv('../data/bonus_post.csv')"
   ]
  },
  {
   "cell_type": "code",
   "execution_count": null,
   "metadata": {},
   "outputs": [],
   "source": []
  }
 ],
 "metadata": {
  "kernelspec": {
   "display_name": "Python 3",
   "language": "python",
   "name": "python3"
  },
  "language_info": {
   "codemirror_mode": {
    "name": "ipython",
    "version": 3
   },
   "file_extension": ".py",
   "mimetype": "text/x-python",
   "name": "python",
   "nbconvert_exporter": "python",
   "pygments_lexer": "ipython3",
   "version": "3.7.4"
  }
 },
 "nbformat": 4,
 "nbformat_minor": 2
}
